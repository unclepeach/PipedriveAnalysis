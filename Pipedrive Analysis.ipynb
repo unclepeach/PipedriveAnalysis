{
 "cells": [
  {
   "cell_type": "code",
   "execution_count": null,
   "metadata": {},
   "outputs": [],
   "source": [
    "## RUN THIS BLOCK FIRST ##"
   ]
  },
  {
   "cell_type": "code",
   "execution_count": 1,
   "metadata": {},
   "outputs": [],
   "source": [
    "import numpy as np\n",
    "import matplotlib.pyplot as plt\n",
    "import pandas as pd\n",
    "from pandas import DataFrame, Series\n",
    "from datetime import date"
   ]
  },
  {
   "cell_type": "code",
   "execution_count": null,
   "metadata": {},
   "outputs": [],
   "source": [
    "workbook=pd.ExcelFile('C:\\\\Users\\\\becintern\\\\Downloads\\\\deals-2644782-303.xlsx')\n",
    "dictionary = {}\n",
    "for sheet_name in workbook.sheet_names:\n",
    " df = workbook.parse(sheet_name)\n",
    " dictionary[sheet_name] = df\n",
    "\n",
    "df['Deal - Deal created'] = pd.to_datetime(df['Deal - Deal created'])\n",
    "df.index = df['Deal - Deal created'] "
   ]
  },
  {
   "cell_type": "code",
   "execution_count": null,
   "metadata": {},
   "outputs": [],
   "source": [
    "## RUN each block for leads Statistic ##"
   ]
  },
  {
   "cell_type": "code",
   "execution_count": null,
   "metadata": {},
   "outputs": [],
   "source": [
    "leads_w = df['Deal - Deal created'].resample('W').count().tail(1).get(0)\n",
    "print ('Leads_last week =', leads_w)"
   ]
  },
  {
   "cell_type": "code",
   "execution_count": null,
   "metadata": {},
   "outputs": [],
   "source": [
    "weekly_leads = df['Deal - Deal created'].resample('W').count()\n",
    "weekly_leads.plot()"
   ]
  },
  {
   "cell_type": "code",
   "execution_count": null,
   "metadata": {},
   "outputs": [],
   "source": [
    "leads_m = df['Deal - Deal created'].resample('M').count().tail(1).get(0)\n",
    "print ('Leads_last month =', leads_m)"
   ]
  },
  {
   "cell_type": "code",
   "execution_count": null,
   "metadata": {},
   "outputs": [],
   "source": [
    "monthly_leads = df['Deal - Deal created'].resample('M').count()\n",
    "monthly_leads.plot()"
   ]
  },
  {
   "cell_type": "code",
   "execution_count": null,
   "metadata": {},
   "outputs": [],
   "source": [
    "## RUN each block for Conversion Statistic ##"
   ]
  },
  {
   "cell_type": "code",
   "execution_count": null,
   "metadata": {},
   "outputs": [],
   "source": [
    "dfa = df.groupby(['Deal - Status']).get_group('Won')\n",
    "won_w = dfa['Deal - Deal created'].resample('W').count().tail(1)\n",
    "won_w = won_w.get(0)\n",
    "all_w = df['Deal - Deal created'].resample('W').count().tail(1)\n",
    "all_w = all_w.get(0)\n",
    "print ('Conversion ratio_last week = '+'{:.1%}'.format(won_w/all_w))"
   ]
  },
  {
   "cell_type": "code",
   "execution_count": null,
   "metadata": {
    "scrolled": true
   },
   "outputs": [],
   "source": [
    "dfa = df.groupby(['Deal - Status']).get_group('Won')\n",
    "won_m = dfa['Deal - Deal created'].resample('M').count().tail(1)\n",
    "won_m = won_m.get(0)\n",
    "all_m = df['Deal - Deal created'].resample('M').count().tail(1)\n",
    "all_m = all_m.get(0)\n",
    "print ('Conversion ratio_last month = '+'{:.1%}'.format(won_m/all_m))"
   ]
  },
  {
   "cell_type": "code",
   "execution_count": null,
   "metadata": {},
   "outputs": [],
   "source": [
    "## RUN each block for Revenue Statistic ##"
   ]
  },
  {
   "cell_type": "code",
   "execution_count": null,
   "metadata": {
    "scrolled": true
   },
   "outputs": [],
   "source": [
    "dfa = df.groupby(['Deal - Status']).get_group('Won')\n",
    "rev_w = dfa['Deal - Value'].resample('W').sum().tail(1)\n",
    "rev_w = rev_w.get(0)\n",
    "print ('Rev_last week =', rev_w, 'USD')"
   ]
  },
  {
   "cell_type": "code",
   "execution_count": null,
   "metadata": {},
   "outputs": [],
   "source": [
    "dfa = df.groupby(['Deal - Status']).get_group('Won')\n",
    "rev_m = dfa['Deal - Value'].resample('M').sum().tail(1)\n",
    "rev_m = rev_m.get(0)\n",
    "print ('Rev_last month =', rev_m, 'USD')"
   ]
  },
  {
   "cell_type": "code",
   "execution_count": null,
   "metadata": {
    "scrolled": true
   },
   "outputs": [],
   "source": [
    "dfa = df.groupby(['Deal - Status']).get_group('Won')\n",
    "rev_q = dfa['Deal - Value'].resample('Q').sum().tail(1)\n",
    "rev_q = rev_q.get(0)\n",
    "print ('Rev_last quarter =', rev_q, 'USD')"
   ]
  },
  {
   "cell_type": "code",
   "execution_count": null,
   "metadata": {},
   "outputs": [],
   "source": [
    "dfa = df.groupby(['Deal - Status']).get_group('Won')\n",
    "### Because the latest pipedrive raw data only contains 2018 period\n",
    "rev_YTD = dfa['Deal - Value'].sum()\n",
    "print ('Rev_YTD =', rev_YTD.round(2), 'USD')"
   ]
  },
  {
   "cell_type": "code",
   "execution_count": null,
   "metadata": {},
   "outputs": [],
   "source": [
    "### RUN FOR THE PATTERN DETECTION 2013-2018 ###"
   ]
  },
  {
   "cell_type": "code",
   "execution_count": null,
   "metadata": {
    "scrolled": true
   },
   "outputs": [],
   "source": [
    "workbook=pd.ExcelFile('C:\\\\Users\\\\becintern\\\\Downloads\\\\deals-2644782-306.xlsx')\n",
    "dictionary = {}\n",
    "for sheet_name in workbook.sheet_names:\n",
    " df = workbook.parse(sheet_name)\n",
    " dictionary[sheet_name] = df\n",
    "\n",
    "df['Deal - Deal created'] = pd.to_datetime(df['Deal - Deal created'])\n",
    "df.index = df['Deal - Deal created'] "
   ]
  },
  {
   "cell_type": "code",
   "execution_count": null,
   "metadata": {},
   "outputs": [],
   "source": [
    "dfa = df.groupby(['Deal - Status']).get_group('Won')\n",
    "monthly_leads = dfa['Deal - Deal created'].resample('M').count()\n",
    "monthly_leads.plot()"
   ]
  },
  {
   "cell_type": "code",
   "execution_count": null,
   "metadata": {},
   "outputs": [],
   "source": [
    "dfa = df.groupby(['Deal - Status']).get_group('Won')\n",
    "yearly_value = dfa['Deal - Value'].resample('Q').sum()\n",
    "yearly_value.plot()"
   ]
  },
  {
   "cell_type": "code",
   "execution_count": null,
   "metadata": {},
   "outputs": [],
   "source": [
    "### Pipedrive API Test ###"
   ]
  },
  {
   "cell_type": "code",
   "execution_count": null,
   "metadata": {},
   "outputs": [],
   "source": [
    "!pip install git+https://github.com/matumaros/pypedriver\n",
    "!pip install git+https://github.com/requests/requests"
   ]
  },
  {
   "cell_type": "code",
   "execution_count": 8,
   "metadata": {},
   "outputs": [],
   "source": [
    "from pypedriver import Client\n",
    "## Token from setting ##\n",
    "pipedrive = Client('07ba66b6c2d9507efcb9a6ad055178675743b015')\n",
    "### generator type deals ###\n",
    "deals = pipedrive.Deal.fetch_all()\n",
    "### panda.df read from generator ###\n",
    "#deals = pd.DataFrame(deals)\n",
    "#for deal in deals:\n",
    "    #print(deal.title, '(worth', deals.value, deals.currency + ')')"
   ]
  },
  {
   "cell_type": "code",
   "execution_count": null,
   "metadata": {
    "scrolled": true
   },
   "outputs": [],
   "source": [
    "for deal in deals:\n",
    "    if deal.id == 8:\n",
    "        print(deal.title)"
   ]
  },
  {
   "cell_type": "code",
   "execution_count": null,
   "metadata": {},
   "outputs": [],
   "source": [
    "### Convert string to datetime ###\n",
    "from datetime import datetime\n",
    "\n",
    "for deal in deals:\n",
    "    ### There are none records ###\n",
    "    if deal.add_time is not None:\n",
    "        if datetime.strptime(deal.add_time, \"%Y-%m-%d %H:%M:%S\") > datetime(2018, 6, 18, 0, 0):\n",
    "            print(deal.title,'created at', deal.add_time[0:7])"
   ]
  },
  {
   "cell_type": "code",
   "execution_count": 6,
   "metadata": {},
   "outputs": [
    {
     "name": "stdout",
     "output_type": "stream",
     "text": [
      "Year: 2018\n",
      "Mon : 7\n",
      "Day : 11\n"
     ]
    }
   ],
   "source": [
    "### YTD ###\n",
    "import datetime\n",
    "today = datetime.date.today()\n",
    "print ('Year:', today.year) \n",
    "print ('Mon :', today.month)\n",
    "print ('Day :', today.day)"
   ]
  },
  {
   "cell_type": "code",
   "execution_count": null,
   "metadata": {},
   "outputs": [],
   "source": [
    "### Parsing Complex Nested json data ###"
   ]
  },
  {
   "cell_type": "code",
   "execution_count": 36,
   "metadata": {},
   "outputs": [
    {
     "ename": "KeyError",
     "evalue": "'pic_hash'",
     "output_type": "error",
     "traceback": [
      "\u001b[1;31m---------------------------------------------------------------------------\u001b[0m",
      "\u001b[1;31mKeyError\u001b[0m                                  Traceback (most recent call last)",
      "\u001b[1;32m<ipython-input-36-7cccdf7068c7>\u001b[0m in \u001b[0;36m<module>\u001b[1;34m()\u001b[0m\n\u001b[0;32m      7\u001b[0m     \u001b[0mdeals\u001b[0m \u001b[1;33m=\u001b[0m \u001b[0mdata\u001b[0m\u001b[1;33m[\u001b[0m\u001b[1;34m'data'\u001b[0m\u001b[1;33m]\u001b[0m\u001b[1;33m\u001b[0m\u001b[0m\n\u001b[0;32m      8\u001b[0m \u001b[1;33m\u001b[0m\u001b[0m\n\u001b[1;32m----> 9\u001b[1;33m \u001b[0mjson_normalize\u001b[0m\u001b[1;33m(\u001b[0m\u001b[0mdeals\u001b[0m\u001b[1;33m)\u001b[0m\u001b[1;33m\u001b[0m\u001b[0m\n\u001b[0m",
      "\u001b[1;32m~\\AppData\\Local\\Continuum\\anaconda3\\lib\\site-packages\\pandas\\io\\json\\normalize.py\u001b[0m in \u001b[0;36mjson_normalize\u001b[1;34m(data, record_path, meta, meta_prefix, record_prefix, errors, sep)\u001b[0m\n\u001b[0;32m    201\u001b[0m             \u001b[1;31m# TODO: handle record value which are lists, at least error\u001b[0m\u001b[1;33m\u001b[0m\u001b[1;33m\u001b[0m\u001b[0m\n\u001b[0;32m    202\u001b[0m             \u001b[1;31m#       reasonably\u001b[0m\u001b[1;33m\u001b[0m\u001b[1;33m\u001b[0m\u001b[0m\n\u001b[1;32m--> 203\u001b[1;33m             \u001b[0mdata\u001b[0m \u001b[1;33m=\u001b[0m \u001b[0mnested_to_record\u001b[0m\u001b[1;33m(\u001b[0m\u001b[0mdata\u001b[0m\u001b[1;33m,\u001b[0m \u001b[0msep\u001b[0m\u001b[1;33m=\u001b[0m\u001b[0msep\u001b[0m\u001b[1;33m)\u001b[0m\u001b[1;33m\u001b[0m\u001b[0m\n\u001b[0m\u001b[0;32m    204\u001b[0m         \u001b[1;32mreturn\u001b[0m \u001b[0mDataFrame\u001b[0m\u001b[1;33m(\u001b[0m\u001b[0mdata\u001b[0m\u001b[1;33m)\u001b[0m\u001b[1;33m\u001b[0m\u001b[0m\n\u001b[0;32m    205\u001b[0m     \u001b[1;32melif\u001b[0m \u001b[1;32mnot\u001b[0m \u001b[0misinstance\u001b[0m\u001b[1;33m(\u001b[0m\u001b[0mrecord_path\u001b[0m\u001b[1;33m,\u001b[0m \u001b[0mlist\u001b[0m\u001b[1;33m)\u001b[0m\u001b[1;33m:\u001b[0m\u001b[1;33m\u001b[0m\u001b[0m\n",
      "\u001b[1;32m~\\AppData\\Local\\Continuum\\anaconda3\\lib\\site-packages\\pandas\\io\\json\\normalize.py\u001b[0m in \u001b[0;36mnested_to_record\u001b[1;34m(ds, prefix, sep, level)\u001b[0m\n\u001b[0;32m     86\u001b[0m             \u001b[1;32melse\u001b[0m\u001b[1;33m:\u001b[0m\u001b[1;33m\u001b[0m\u001b[0m\n\u001b[0;32m     87\u001b[0m                 \u001b[0mv\u001b[0m \u001b[1;33m=\u001b[0m \u001b[0mnew_d\u001b[0m\u001b[1;33m.\u001b[0m\u001b[0mpop\u001b[0m\u001b[1;33m(\u001b[0m\u001b[0mk\u001b[0m\u001b[1;33m)\u001b[0m\u001b[1;33m\u001b[0m\u001b[0m\n\u001b[1;32m---> 88\u001b[1;33m                 \u001b[0mnew_d\u001b[0m\u001b[1;33m.\u001b[0m\u001b[0mupdate\u001b[0m\u001b[1;33m(\u001b[0m\u001b[0mnested_to_record\u001b[0m\u001b[1;33m(\u001b[0m\u001b[0mv\u001b[0m\u001b[1;33m,\u001b[0m \u001b[0mnewkey\u001b[0m\u001b[1;33m,\u001b[0m \u001b[0msep\u001b[0m\u001b[1;33m,\u001b[0m \u001b[0mlevel\u001b[0m \u001b[1;33m+\u001b[0m \u001b[1;36m1\u001b[0m\u001b[1;33m)\u001b[0m\u001b[1;33m)\u001b[0m\u001b[1;33m\u001b[0m\u001b[0m\n\u001b[0m\u001b[0;32m     89\u001b[0m         \u001b[0mnew_ds\u001b[0m\u001b[1;33m.\u001b[0m\u001b[0mappend\u001b[0m\u001b[1;33m(\u001b[0m\u001b[0mnew_d\u001b[0m\u001b[1;33m)\u001b[0m\u001b[1;33m\u001b[0m\u001b[0m\n\u001b[0;32m     90\u001b[0m \u001b[1;33m\u001b[0m\u001b[0m\n",
      "\u001b[1;32m~\\AppData\\Local\\Continuum\\anaconda3\\lib\\site-packages\\pandas\\io\\json\\normalize.py\u001b[0m in \u001b[0;36mnested_to_record\u001b[1;34m(ds, prefix, sep, level)\u001b[0m\n\u001b[0;32m     82\u001b[0m                     \u001b[0mnew_d\u001b[0m\u001b[1;33m[\u001b[0m\u001b[0mnewkey\u001b[0m\u001b[1;33m]\u001b[0m \u001b[1;33m=\u001b[0m \u001b[0mv\u001b[0m\u001b[1;33m\u001b[0m\u001b[0m\n\u001b[0;32m     83\u001b[0m                 \u001b[1;32mif\u001b[0m \u001b[0mv\u001b[0m \u001b[1;32mis\u001b[0m \u001b[1;32mNone\u001b[0m\u001b[1;33m:\u001b[0m  \u001b[1;31m# pop the key if the value is None\u001b[0m\u001b[1;33m\u001b[0m\u001b[0m\n\u001b[1;32m---> 84\u001b[1;33m                     \u001b[0mnew_d\u001b[0m\u001b[1;33m.\u001b[0m\u001b[0mpop\u001b[0m\u001b[1;33m(\u001b[0m\u001b[0mk\u001b[0m\u001b[1;33m)\u001b[0m\u001b[1;33m\u001b[0m\u001b[0m\n\u001b[0m\u001b[0;32m     85\u001b[0m                 \u001b[1;32mcontinue\u001b[0m\u001b[1;33m\u001b[0m\u001b[0m\n\u001b[0;32m     86\u001b[0m             \u001b[1;32melse\u001b[0m\u001b[1;33m:\u001b[0m\u001b[1;33m\u001b[0m\u001b[0m\n",
      "\u001b[1;31mKeyError\u001b[0m: 'pic_hash'"
     ]
    }
   ],
   "source": [
    "import urllib.request, json\n",
    "import pandas as pd \n",
    "from pandas.io.json import json_normalize\n",
    "\n",
    "with urllib.request.urlopen(\"https://api.pipedrive.com/v1/deals?start=0&api_token=07ba66b6c2d9507efcb9a6ad055178675743b015\") as url:\n",
    "    data = json.loads(url.read().decode())\n",
    "    deals = data['data']\n",
    "\n",
    "json_normalize(deals)"
   ]
  },
  {
   "cell_type": "code",
   "execution_count": 34,
   "metadata": {},
   "outputs": [
    {
     "data": {
      "text/plain": [
       "list"
      ]
     },
     "execution_count": 34,
     "metadata": {},
     "output_type": "execute_result"
    }
   ],
   "source": [
    "type(deals)"
   ]
  },
  {
   "cell_type": "code",
   "execution_count": null,
   "metadata": {},
   "outputs": [],
   "source": []
  }
 ],
 "metadata": {
  "kernelspec": {
   "display_name": "Python 3",
   "language": "python",
   "name": "python3"
  },
  "language_info": {
   "codemirror_mode": {
    "name": "ipython",
    "version": 3
   },
   "file_extension": ".py",
   "mimetype": "text/x-python",
   "name": "python",
   "nbconvert_exporter": "python",
   "pygments_lexer": "ipython3",
   "version": "3.6.5"
  }
 },
 "nbformat": 4,
 "nbformat_minor": 2
}
