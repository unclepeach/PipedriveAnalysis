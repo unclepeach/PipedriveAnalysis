{
 "cells": [
  {
   "cell_type": "code",
   "execution_count": null,
   "metadata": {},
   "outputs": [],
   "source": [
    "## RUN THIS BLOCK FIRST ##"
   ]
  },
  {
   "cell_type": "code",
   "execution_count": 2,
   "metadata": {},
   "outputs": [],
   "source": [
    "import numpy as np\n",
    "import matplotlib.pyplot as plt\n",
    "import pandas as pd\n",
    "from pandas import DataFrame, Series\n",
    "from datetime import date\n",
    "\n",
    "workbook=pd.ExcelFile('C:\\\\Users\\\\becintern\\\\Downloads\\\\deals-2644782-303.xlsx')\n",
    "dictionary = {}\n",
    "for sheet_name in workbook.sheet_names:\n",
    " df = workbook.parse(sheet_name)\n",
    " dictionary[sheet_name] = df\n",
    "\n",
    "df['Deal - Deal created'] = pd.to_datetime(df['Deal - Deal created'])\n",
    "df.index = df['Deal - Deal created'] "
   ]
  },
  {
   "cell_type": "code",
   "execution_count": null,
   "metadata": {},
   "outputs": [],
   "source": [
    "## RUN each block for leads Statistic ##"
   ]
  },
  {
   "cell_type": "code",
   "execution_count": null,
   "metadata": {},
   "outputs": [],
   "source": [
    "leads_w = df['Deal - Deal created'].resample('W').count().tail(1).get(0)\n",
    "print ('Leads_last week =', leads_w)"
   ]
  },
  {
   "cell_type": "code",
   "execution_count": null,
   "metadata": {},
   "outputs": [],
   "source": [
    "weekly_leads = df['Deal - Deal created'].resample('W').count()\n",
    "weekly_leads.plot()"
   ]
  },
  {
   "cell_type": "code",
   "execution_count": null,
   "metadata": {},
   "outputs": [],
   "source": [
    "leads_m = df['Deal - Deal created'].resample('M').count().tail(1).get(0)\n",
    "print ('Leads_last month =', leads_m)"
   ]
  },
  {
   "cell_type": "code",
   "execution_count": null,
   "metadata": {},
   "outputs": [],
   "source": [
    "monthly_leads = df['Deal - Deal created'].resample('M').count()\n",
    "monthly_leads.plot()"
   ]
  },
  {
   "cell_type": "code",
   "execution_count": null,
   "metadata": {},
   "outputs": [],
   "source": [
    "## RUN each block for Conversion Statistic ##"
   ]
  },
  {
   "cell_type": "code",
   "execution_count": null,
   "metadata": {},
   "outputs": [],
   "source": [
    "dfa = df.groupby(['Deal - Status']).get_group('Won')\n",
    "won_w = dfa['Deal - Deal created'].resample('W').count().tail(1)\n",
    "won_w = won_w.get(0)\n",
    "all_w = df['Deal - Deal created'].resample('W').count().tail(1)\n",
    "all_w = all_w.get(0)\n",
    "print ('Conversion ratio_last week = '+'{:.1%}'.format(won_w/all_w))"
   ]
  },
  {
   "cell_type": "code",
   "execution_count": null,
   "metadata": {
    "scrolled": true
   },
   "outputs": [],
   "source": [
    "dfa = df.groupby(['Deal - Status']).get_group('Won')\n",
    "won_m = dfa['Deal - Deal created'].resample('M').count().tail(1)\n",
    "won_m = won_m.get(0)\n",
    "all_m = df['Deal - Deal created'].resample('M').count().tail(1)\n",
    "all_m = all_m.get(0)\n",
    "print ('Conversion ratio_last month = '+'{:.1%}'.format(won_m/all_m))"
   ]
  },
  {
   "cell_type": "code",
   "execution_count": null,
   "metadata": {},
   "outputs": [],
   "source": [
    "## RUN each block for Revenue Statistic ##"
   ]
  },
  {
   "cell_type": "code",
   "execution_count": null,
   "metadata": {
    "scrolled": true
   },
   "outputs": [],
   "source": [
    "dfa = df.groupby(['Deal - Status']).get_group('Won')\n",
    "rev_w = dfa['Deal - Value'].resample('W').sum().tail(1)\n",
    "rev_w = rev_w.get(0)\n",
    "print ('Rev_last week =', rev_w, 'USD')"
   ]
  },
  {
   "cell_type": "code",
   "execution_count": null,
   "metadata": {},
   "outputs": [],
   "source": [
    "dfa = df.groupby(['Deal - Status']).get_group('Won')\n",
    "rev_m = dfa['Deal - Value'].resample('M').sum().tail(1)\n",
    "rev_m = rev_m.get(0)\n",
    "print ('Rev_last month =', rev_m, 'USD')"
   ]
  },
  {
   "cell_type": "code",
   "execution_count": null,
   "metadata": {
    "scrolled": true
   },
   "outputs": [],
   "source": [
    "dfa = df.groupby(['Deal - Status']).get_group('Won')\n",
    "rev_q = dfa['Deal - Value'].resample('Q').sum().tail(1)\n",
    "rev_q = rev_q.get(0)\n",
    "print ('Rev_last quarter =', rev_q, 'USD')"
   ]
  },
  {
   "cell_type": "code",
   "execution_count": null,
   "metadata": {},
   "outputs": [],
   "source": [
    "dfa = df.groupby(['Deal - Status']).get_group('Won')\n",
    "### Because the latest pipedrive raw data only contains 2018 period\n",
    "rev_YTD = dfa['Deal - Value'].sum()\n",
    "print ('Rev_YTD =', rev_YTD.round(2), 'USD')"
   ]
  },
  {
   "cell_type": "code",
   "execution_count": null,
   "metadata": {},
   "outputs": [],
   "source": []
  }
 ],
 "metadata": {
  "kernelspec": {
   "display_name": "Python 3",
   "language": "python",
   "name": "python3"
  },
  "language_info": {
   "codemirror_mode": {
    "name": "ipython",
    "version": 3
   },
   "file_extension": ".py",
   "mimetype": "text/x-python",
   "name": "python",
   "nbconvert_exporter": "python",
   "pygments_lexer": "ipython3",
   "version": "3.6.5"
  }
 },
 "nbformat": 4,
 "nbformat_minor": 2
}
